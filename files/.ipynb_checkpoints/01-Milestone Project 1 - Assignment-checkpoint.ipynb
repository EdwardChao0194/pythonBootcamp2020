{
 "cells": [
  {
   "cell_type": "markdown",
   "metadata": {},
   "source": [
    "___\n",
    "\n",
    "<a href='https://www.udemy.com/user/joseportilla/'><img src='../Pierian_Data_Logo.png'/></a>\n",
    "___\n",
    "<center><em>Content Copyright by Pierian Data</em></center>"
   ]
  },
  {
   "cell_type": "markdown",
   "metadata": {},
   "source": [
    "# Milestone Project 1\n",
    "## Congratulations on making it to your first milestone!\n",
    "You've already learned a ton and are ready to work on a real project.\n",
    "\n",
    "Your assignment: Create a Tic Tac Toe game. You are free to use any IDE you like.\n",
    "\n",
    "Here are the requirements:\n",
    "\n",
    "* 2 players should be able to play the game (both sitting at the same computer)\n",
    "* The board should be printed out every time a player makes a move\n",
    "* You should be able to accept input of the player position and then place a symbol on the board\n",
    "\n",
    "Feel free to use Google to help you figure anything out (but don't just Google \"Tic Tac Toe in Python\" otherwise you won't learn anything!) Keep in mind that this project can take anywhere between several hours to several days.\n",
    "\n",
    "There are 4 Jupyter Notebooks related to this assignment:\n",
    "\n",
    "* This Assignment Notebook\n",
    "* A \"Walkthrough Steps Workbook\" Notebook\n",
    "* A \"Complete Walkthrough Solution\" Notebook\n",
    "* An \"Advanced Solution\" Notebook\n",
    "\n",
    "I encourage you to just try to start the project on your own without referencing any of the notebooks. If you get stuck, check out the next lecture which is a text lecture with helpful hints and steps. If you're still stuck after that, then check out the Walkthrough Steps Workbook, which breaks up the project in steps for you to solve. Still stuck? Then check out the Complete Walkthrough Solution video for more help on approaching the project!"
   ]
  },
  {
   "cell_type": "markdown",
   "metadata": {},
   "source": [
    "There are parts of this that will be a struggle...and that is good! I have complete faith that if you have made it this far through the course you have all the tools and knowledge to tackle this project. Remember, it's totally open book, so take your time, do a little research, and remember:\n",
    "\n",
    "## HAVE FUN!"
   ]
  },
  {
   "cell_type": "code",
   "execution_count": 1,
   "metadata": {},
   "outputs": [],
   "source": [
    "def board(array):\n",
    "    print(f'{array[6]} | {array[7]} | {array[8]}')\n",
    "    print('---------')\n",
    "    print(f'{array[3]} | {array[4]} | {array[5]}')\n",
    "    print('---------')\n",
    "    print(f'{array[0]} | {array[1]} | {array[2]}')"
   ]
  },
  {
   "cell_type": "code",
   "execution_count": 2,
   "metadata": {},
   "outputs": [
    {
     "name": "stdout",
     "output_type": "stream",
     "text": [
      "7 | 8 | 9\n",
      "---------\n",
      "4 | 5 | 6\n",
      "---------\n",
      "1 | 2 | 3\n"
     ]
    }
   ],
   "source": [
    "board([1,2,3,4,5,6,7,8,9])"
   ]
  },
  {
   "cell_type": "code",
   "execution_count": 23,
   "metadata": {},
   "outputs": [],
   "source": [
    "def p_input(array, player):\n",
    "    loc = 'Wrong'\n",
    "    while not loc.isdigit() or int(loc) not in range(0,9):\n",
    "        loc = input(\"Please choose a location: (0-8) \")\n",
    "    array[int(loc)] = player\n",
    "    board(array)"
   ]
  },
  {
   "cell_type": "code",
   "execution_count": 25,
   "metadata": {},
   "outputs": [
    {
     "name": "stdout",
     "output_type": "stream",
     "text": [
      "Please choose a location: (0-8) 0\n",
      "7 | 8 | 9\n",
      "---------\n",
      "4 | 5 | 6\n",
      "---------\n",
      "X | 2 | 3\n"
     ]
    }
   ],
   "source": [
    "p_input([1,2,3,4,5,6,7,8,9],\"X\")"
   ]
  },
  {
   "cell_type": "code",
   "execution_count": 5,
   "metadata": {},
   "outputs": [],
   "source": [
    "def game():\n",
    "    players = ['O','X']\n",
    "    index = 0\n",
    "    array = [\" \",\" \",\" \",\" \",\" \",\" \",\" \",\" \",\" \"]\n",
    "    yGame = True\n",
    "    while yGame == True:\n",
    "        board(array)\n",
    "        p_input(array,players[index])\n",
    "        if index == 0:\n",
    "            index = 1\n",
    "        else:\n",
    "            index = 0\n",
    "        if array[0] == array[4] and array[4] == array[8]:\n",
    "            yGame = False"
   ]
  },
  {
   "cell_type": "markdown",
   "metadata": {},
   "source": [
    "game()"
   ]
  },
  {
   "cell_type": "code",
   "execution_count": 7,
   "metadata": {},
   "outputs": [],
   "source": [
    "def game():\n",
    "    players = ['O','X']\n",
    "    index = 0\n",
    "    array = [\" \",\" \",\" \",\" \",\" \",\" \",\" \",\" \",\" \"]\n",
    "    yGame = True\n",
    "    counter = 0\n",
    "    while yGame == True:\n",
    "        board(array)\n",
    "        p_input(array,players[index])\n",
    "        if index == 0:\n",
    "            index = 1\n",
    "        else:\n",
    "            index = 0\n",
    "        if array[0] != ' ' and array[0] == array[4] == array[8]:\n",
    "            yGame = False\n",
    "        elif array[6] != ' ' and array[6] == array[4] == array[2]:\n",
    "            yGame = False\n",
    "        elif array[0] != ' ' and array[0] == array[3] == array[6]:\n",
    "            yGame = False\n",
    "        elif array[1] != ' ' and array[1] == array[4] == array[7]:\n",
    "            yGame = False\n",
    "        elif array[2] != ' ' and array[2] == array[5] == array[8]:\n",
    "            yGame = False\n",
    "        elif array[0] != ' ' and array[0] == array[1] == array[2]:\n",
    "            yGame = False\n",
    "        elif array[3] != ' ' and array[3] == array[4] == array[5]:\n",
    "            yGame = False\n",
    "        elif array[6] != ' ' and array[6] == array[7] == array[8]:\n",
    "            yGame = False\n",
    "        elif counter == 8:\n",
    "            yGame = False\n",
    "        counter = counter + 1\n",
    "    if playagain():\n",
    "        game()"
   ]
  },
  {
   "cell_type": "code",
   "execution_count": 8,
   "metadata": {},
   "outputs": [
    {
     "name": "stdout",
     "output_type": "stream",
     "text": [
      "  |   |  \n",
      "---------\n",
      "  |   |  \n",
      "---------\n",
      "  |   |  \n",
      "Please choose a location: (0-8) 0\n",
      "  |   |  \n",
      "---------\n",
      "  |   |  \n",
      "---------\n",
      "O |   |  \n",
      "  |   |  \n",
      "---------\n",
      "  |   |  \n",
      "---------\n",
      "O |   |  \n",
      "Please choose a location: (0-8) 0\n",
      "  |   |  \n",
      "---------\n",
      "  |   |  \n",
      "---------\n",
      "X |   |  \n",
      "  |   |  \n",
      "---------\n",
      "  |   |  \n",
      "---------\n",
      "X |   |  \n",
      "Please choose a location: (0-8) 0\n",
      "  |   |  \n",
      "---------\n",
      "  |   |  \n",
      "---------\n",
      "O |   |  \n",
      "  |   |  \n",
      "---------\n",
      "  |   |  \n",
      "---------\n",
      "O |   |  \n",
      "Please choose a location: (0-8) 0\n",
      "  |   |  \n",
      "---------\n",
      "  |   |  \n",
      "---------\n",
      "X |   |  \n",
      "  |   |  \n",
      "---------\n",
      "  |   |  \n",
      "---------\n",
      "X |   |  \n",
      "Please choose a location: (0-8) 0\n",
      "  |   |  \n",
      "---------\n",
      "  |   |  \n",
      "---------\n",
      "O |   |  \n",
      "  |   |  \n",
      "---------\n",
      "  |   |  \n",
      "---------\n",
      "O |   |  \n",
      "Please choose a location: (0-8) 0\n",
      "  |   |  \n",
      "---------\n",
      "  |   |  \n",
      "---------\n",
      "X |   |  \n",
      "  |   |  \n",
      "---------\n",
      "  |   |  \n",
      "---------\n",
      "X |   |  \n",
      "Please choose a location: (0-8) 0\n",
      "  |   |  \n",
      "---------\n",
      "  |   |  \n",
      "---------\n",
      "O |   |  \n",
      "  |   |  \n",
      "---------\n",
      "  |   |  \n",
      "---------\n",
      "O |   |  \n",
      "Please choose a location: (0-8) 1\n",
      "  |   |  \n",
      "---------\n",
      "  |   |  \n",
      "---------\n",
      "O | X |  \n",
      "  |   |  \n",
      "---------\n",
      "  |   |  \n",
      "---------\n",
      "O | X |  \n",
      "Please choose a location: (0-8) 2\n",
      "  |   |  \n",
      "---------\n",
      "  |   |  \n",
      "---------\n",
      "O | X | O\n"
     ]
    },
    {
     "ename": "NameError",
     "evalue": "name 'playagain' is not defined",
     "output_type": "error",
     "traceback": [
      "\u001b[1;31m---------------------------------------------------------------------------\u001b[0m",
      "\u001b[1;31mNameError\u001b[0m                                 Traceback (most recent call last)",
      "\u001b[1;32m<ipython-input-8-4a8413945148>\u001b[0m in \u001b[0;36m<module>\u001b[1;34m\u001b[0m\n\u001b[1;32m----> 1\u001b[1;33m \u001b[0mgame\u001b[0m\u001b[1;33m(\u001b[0m\u001b[1;33m)\u001b[0m\u001b[1;33m\u001b[0m\u001b[1;33m\u001b[0m\u001b[0m\n\u001b[0m",
      "\u001b[1;32m<ipython-input-7-3ebf40b3b9ea>\u001b[0m in \u001b[0;36mgame\u001b[1;34m()\u001b[0m\n\u001b[0;32m     31\u001b[0m             \u001b[0myGame\u001b[0m \u001b[1;33m=\u001b[0m \u001b[1;32mFalse\u001b[0m\u001b[1;33m\u001b[0m\u001b[1;33m\u001b[0m\u001b[0m\n\u001b[0;32m     32\u001b[0m         \u001b[0mcounter\u001b[0m \u001b[1;33m=\u001b[0m \u001b[0mcounter\u001b[0m \u001b[1;33m+\u001b[0m \u001b[1;36m1\u001b[0m\u001b[1;33m\u001b[0m\u001b[1;33m\u001b[0m\u001b[0m\n\u001b[1;32m---> 33\u001b[1;33m     \u001b[1;32mif\u001b[0m \u001b[0mplayagain\u001b[0m\u001b[1;33m(\u001b[0m\u001b[1;33m)\u001b[0m\u001b[1;33m:\u001b[0m\u001b[1;33m\u001b[0m\u001b[1;33m\u001b[0m\u001b[0m\n\u001b[0m\u001b[0;32m     34\u001b[0m         \u001b[0mgame\u001b[0m\u001b[1;33m(\u001b[0m\u001b[1;33m)\u001b[0m\u001b[1;33m\u001b[0m\u001b[1;33m\u001b[0m\u001b[0m\n",
      "\u001b[1;31mNameError\u001b[0m: name 'playagain' is not defined"
     ]
    }
   ],
   "source": [
    "game()"
   ]
  },
  {
   "cell_type": "markdown",
   "metadata": {},
   "source": [
    "def playagain():\n",
    "    response = input(\"Do you want to play again? (Y or N): \")\n",
    "    if response == 'Y':\n",
    "        return True\n",
    "    else:\n",
    "        return False"
   ]
  },
  {
   "cell_type": "code",
   "execution_count": 14,
   "metadata": {},
   "outputs": [],
   "source": [
    "def playagain(): \n",
    "    response = input(\"Do you want to play again? (Y or N): \") \n",
    "    if response == 'Y': \n",
    "        return True \n",
    "    elif response == 'N': \n",
    "        return False\n",
    "    else:\n",
    "        print('Invalid response')\n",
    "        playagain()"
   ]
  },
  {
   "cell_type": "code",
   "execution_count": 11,
   "metadata": {},
   "outputs": [
    {
     "name": "stdout",
     "output_type": "stream",
     "text": [
      "  |   |  \n",
      "---------\n",
      "  |   |  \n",
      "---------\n",
      "  |   |  \n",
      "Please choose a location: (0-8) 0\n",
      "  |   |  \n",
      "---------\n",
      "  |   |  \n",
      "---------\n",
      "O |   |  \n",
      "  |   |  \n",
      "---------\n",
      "  |   |  \n",
      "---------\n",
      "O |   |  \n",
      "Please choose a location: (0-8) 3\n",
      "  |   |  \n",
      "---------\n",
      "X |   |  \n",
      "---------\n",
      "O |   |  \n",
      "  |   |  \n",
      "---------\n",
      "X |   |  \n",
      "---------\n",
      "O |   |  \n",
      "Please choose a location: (0-8) 1\n",
      "  |   |  \n",
      "---------\n",
      "X |   |  \n",
      "---------\n",
      "O | O |  \n",
      "  |   |  \n",
      "---------\n",
      "X |   |  \n",
      "---------\n",
      "O | O |  \n",
      "Please choose a location: (0-8) 5\n",
      "  |   |  \n",
      "---------\n",
      "X |   | X\n",
      "---------\n",
      "O | O |  \n",
      "  |   |  \n",
      "---------\n",
      "X |   | X\n",
      "---------\n",
      "O | O |  \n",
      "Please choose a location: (0-8) 2\n",
      "  |   |  \n",
      "---------\n",
      "X |   | X\n",
      "---------\n",
      "O | O | O\n",
      "Do you want to play again? (Y or N): n\n"
     ]
    }
   ],
   "source": [
    "game()"
   ]
  },
  {
   "cell_type": "code",
   "execution_count": 13,
   "metadata": {},
   "outputs": [
    {
     "name": "stdout",
     "output_type": "stream",
     "text": [
      "Do you want to play again? (Y or N): a\n"
     ]
    },
    {
     "data": {
      "text/plain": [
       "False"
      ]
     },
     "execution_count": 13,
     "metadata": {},
     "output_type": "execute_result"
    }
   ],
   "source": [
    "playagain()"
   ]
  },
  {
   "cell_type": "code",
   "execution_count": 15,
   "metadata": {},
   "outputs": [
    {
     "name": "stdout",
     "output_type": "stream",
     "text": [
      "Do you want to play again? (Y or N): a\n",
      "Invalid response\n",
      "Do you want to play again? (Y or N): w\n",
      "Invalid response\n",
      "Do you want to play again? (Y or N): 1\n",
      "Invalid response\n",
      "Do you want to play again? (Y or N): N\n"
     ]
    }
   ],
   "source": [
    "playagain()"
   ]
  },
  {
   "cell_type": "code",
   "execution_count": 16,
   "metadata": {},
   "outputs": [
    {
     "name": "stdout",
     "output_type": "stream",
     "text": [
      "Do you want to play again? (Y or N): Y\n"
     ]
    },
    {
     "data": {
      "text/plain": [
       "True"
      ]
     },
     "execution_count": 16,
     "metadata": {},
     "output_type": "execute_result"
    }
   ],
   "source": [
    "playagain()"
   ]
  },
  {
   "cell_type": "code",
   "execution_count": 26,
   "metadata": {},
   "outputs": [
    {
     "name": "stdout",
     "output_type": "stream",
     "text": [
      "  |   |  \n",
      "---------\n",
      "  |   |  \n",
      "---------\n",
      "  |   |  \n",
      "Please choose a location: (0-8) 7\n",
      "  | O |  \n",
      "---------\n",
      "  |   |  \n",
      "---------\n",
      "  |   |  \n",
      "  | O |  \n",
      "---------\n",
      "  |   |  \n",
      "---------\n",
      "  |   |  \n",
      "Please choose a location: (0-8) 1\n",
      "  | O |  \n",
      "---------\n",
      "  |   |  \n",
      "---------\n",
      "  | X |  \n",
      "  | O |  \n",
      "---------\n",
      "  |   |  \n",
      "---------\n",
      "  | X |  \n",
      "Please choose a location: (0-8) 4\n",
      "  | O |  \n",
      "---------\n",
      "  | O |  \n",
      "---------\n",
      "  | X |  \n",
      "  | O |  \n",
      "---------\n",
      "  | O |  \n",
      "---------\n",
      "  | X |  \n",
      "Please choose a location: (0-8) 0\n",
      "  | O |  \n",
      "---------\n",
      "  | O |  \n",
      "---------\n",
      "X | X |  \n",
      "  | O |  \n",
      "---------\n",
      "  | O |  \n",
      "---------\n",
      "X | X |  \n",
      "Please choose a location: (0-8) 2\n",
      "  | O |  \n",
      "---------\n",
      "  | O |  \n",
      "---------\n",
      "X | X | O\n",
      "  | O |  \n",
      "---------\n",
      "  | O |  \n",
      "---------\n",
      "X | X | O\n",
      "Please choose a location: (0-8) 6\n",
      "X | O |  \n",
      "---------\n",
      "  | O |  \n",
      "---------\n",
      "X | X | O\n",
      "X | O |  \n",
      "---------\n",
      "  | O |  \n",
      "---------\n",
      "X | X | O\n",
      "Please choose a location: (0-8) 5\n",
      "X | O |  \n",
      "---------\n",
      "  | O | O\n",
      "---------\n",
      "X | X | O\n",
      "X | O |  \n",
      "---------\n",
      "  | O | O\n",
      "---------\n",
      "X | X | O\n",
      "Please choose a location: (0-8) 3\n",
      "X | O |  \n",
      "---------\n",
      "X | O | O\n",
      "---------\n",
      "X | X | O\n",
      "Do you want to play again? (Y or N): Y\n",
      "  |   |  \n",
      "---------\n",
      "  |   |  \n",
      "---------\n",
      "  |   |  \n",
      "Please choose a location: (0-8) 0\n",
      "  |   |  \n",
      "---------\n",
      "  |   |  \n",
      "---------\n",
      "O |   |  \n",
      "  |   |  \n",
      "---------\n",
      "  |   |  \n",
      "---------\n",
      "O |   |  \n",
      "Please choose a location: (0-8) 3\n",
      "  |   |  \n",
      "---------\n",
      "X |   |  \n",
      "---------\n",
      "O |   |  \n",
      "  |   |  \n",
      "---------\n",
      "X |   |  \n",
      "---------\n",
      "O |   |  \n",
      "Please choose a location: (0-8) 1\n",
      "  |   |  \n",
      "---------\n",
      "X |   |  \n",
      "---------\n",
      "O | O |  \n",
      "  |   |  \n",
      "---------\n",
      "X |   |  \n",
      "---------\n",
      "O | O |  \n",
      "Please choose a location: (0-8) 4\n",
      "  |   |  \n",
      "---------\n",
      "X | X |  \n",
      "---------\n",
      "O | O |  \n",
      "  |   |  \n",
      "---------\n",
      "X | X |  \n",
      "---------\n",
      "O | O |  \n",
      "Please choose a location: (0-8) 2\n",
      "  |   |  \n",
      "---------\n",
      "X | X |  \n",
      "---------\n",
      "O | O | O\n",
      "Do you want to play again? (Y or N): N\n"
     ]
    }
   ],
   "source": [
    "game()"
   ]
  },
  {
   "cell_type": "code",
   "execution_count": null,
   "metadata": {},
   "outputs": [],
   "source": []
  }
 ],
 "metadata": {
  "kernelspec": {
   "display_name": "Python 3",
   "language": "python",
   "name": "python3"
  },
  "language_info": {
   "codemirror_mode": {
    "name": "ipython",
    "version": 3
   },
   "file_extension": ".py",
   "mimetype": "text/x-python",
   "name": "python",
   "nbconvert_exporter": "python",
   "pygments_lexer": "ipython3",
   "version": "3.8.5"
  }
 },
 "nbformat": 4,
 "nbformat_minor": 1
}
